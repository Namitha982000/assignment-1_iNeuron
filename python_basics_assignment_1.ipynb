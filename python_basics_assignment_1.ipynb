{
 "cells": [
  {
   "cell_type": "markdown",
   "id": "9b534cf9",
   "metadata": {},
   "source": [
    "# 1. In the below elements which of them are values or an expression? eg:- values can be integer or string and expressions will be mathematical operators.\n",
    "\n",
    " "
   ]
  },
  {
   "cell_type": "markdown",
   "id": "9a5b6cf3",
   "metadata": {},
   "source": [
    "1. `*` = expression\n",
    "\n",
    "\n",
    "2. `'hello'` = value\n",
    "\n",
    "\n",
    "3. `-87.8` = value\n",
    "\n",
    "\n",
    "4. `-` = expression\n",
    "\n",
    "\n",
    "5. `/` = expression\n",
    "\n",
    "\n",
    "6. `+` = expression\n",
    "\n",
    "\n",
    "7. `6` = value"
   ]
  },
  {
   "cell_type": "markdown",
   "id": "9db66f18",
   "metadata": {},
   "source": [
    "# 2. What is the difference between string and variable?"
   ]
  },
  {
   "cell_type": "markdown",
   "id": "42afde71",
   "metadata": {},
   "source": [
    "* **String** is a sequence of characters.\n",
    "\n",
    "  **Variables** are identifiers which is used to identify the data.\n",
    "  \n",
    "  \n",
    "* **Strings** are data enclosed within double quotes or single quotes.\n",
    "\n",
    "  **Variables** can store any data types which are available in python.\n",
    "  \n",
    "  \n",
    "* **Strings** have index values or indices.\n",
    "\n",
    "  **Variables** does'nt have index or indices.\n",
    "\n",
    "  "
   ]
  },
  {
   "cell_type": "markdown",
   "id": "48db2de5",
   "metadata": {},
   "source": [
    "# 3. Describe three different data types."
   ]
  },
  {
   "cell_type": "markdown",
   "id": "d2feb207",
   "metadata": {},
   "source": [
    "* **integer (int)** : It is one of the data types in python, which represents that the data are integer. Integers a whole numbers(positive, negative or zero). They can be binary, hexadecimal and octal.\n",
    "\n",
    "         ex: 1, 5, 33, -90, 100\n",
    "\n",
    "* **floating point numbers (float)** : It is one of the data types in python, which represents that the data are floating point numbers. The floating point numbers are real numbers with fractional part (positive or negative). They are denoted by the decimal point or can even be denoted by scientific notations.\n",
    "\n",
    "         ex: 11.24, -22.8, 0.96\n",
    "\n",
    "* **complex numbers (complex)** : It consits both real part and imaginary part.\n",
    "\n",
    "         ex: 2+8j, 3-5j\n"
   ]
  },
  {
   "cell_type": "code",
   "execution_count": 7,
   "id": "70e0ba0a",
   "metadata": {},
   "outputs": [
    {
     "name": "stdout",
     "output_type": "stream",
     "text": [
      "data type of a  is:  <class 'int'>\n",
      "data type of b  is:  <class 'int'>\n"
     ]
    }
   ],
   "source": [
    "a = 23\n",
    "print(\"data type of a  is: \",type(a))\n",
    "\n",
    "b = -90\n",
    "print(\"data type of b  is: \",type(b))"
   ]
  },
  {
   "cell_type": "code",
   "execution_count": 9,
   "id": "e179ce38",
   "metadata": {},
   "outputs": [
    {
     "name": "stdout",
     "output_type": "stream",
     "text": [
      "data type of c  is:  <class 'float'>\n",
      "data type of d  is:  <class 'float'>\n"
     ]
    }
   ],
   "source": [
    "c = 34.9\n",
    "print(\"data type of c  is: \",type(c))\n",
    "\n",
    "d = -78.7\n",
    "print(\"data type of d  is: \",type(d))\n"
   ]
  },
  {
   "cell_type": "code",
   "execution_count": 11,
   "id": "2e689a22",
   "metadata": {},
   "outputs": [
    {
     "name": "stdout",
     "output_type": "stream",
     "text": [
      "data type of e  is:  <class 'complex'>\n",
      "data type of f  is:  <class 'complex'>\n"
     ]
    }
   ],
   "source": [
    "e = 34+8j\n",
    "print(\"data type of e  is: \",type(e))\n",
    "\n",
    "f = -78.9-6j\n",
    "print(\"data type of f  is: \",type(f))\n"
   ]
  },
  {
   "cell_type": "markdown",
   "id": "c2db269b",
   "metadata": {},
   "source": [
    "# 4. What is an expression made up of? What do all expressions do?"
   ]
  },
  {
   "cell_type": "markdown",
   "id": "a7422637",
   "metadata": {},
   "source": [
    "An expression is made up of operators and operands inorder to perform some specific tasks that results to a single value. All expressions performs arithmetic and logical operations that results to a single value.\n",
    "\n",
    "ex:"
   ]
  },
  {
   "cell_type": "code",
   "execution_count": 15,
   "id": "4e09d1db",
   "metadata": {},
   "outputs": [
    {
     "name": "stdout",
     "output_type": "stream",
     "text": [
      "a + b =  30\n",
      "a & b =  0\n"
     ]
    }
   ],
   "source": [
    "a = 20\n",
    "b = 10\n",
    "# a and b are operands\n",
    "\n",
    "# arithmetic operation\n",
    "\n",
    "res = a + b         # addition\n",
    "print(\"a + b = \",res)\n",
    "\n",
    "# logical operation\n",
    "\n",
    "c = a & b          # bitwise and \n",
    "print(\"a & b = \",c)"
   ]
  },
  {
   "cell_type": "markdown",
   "id": "ff4502bf",
   "metadata": {},
   "source": [
    "# 5. This assignment statements, like spam = 10. What is the difference between an expression and a statement?"
   ]
  },
  {
   "cell_type": "markdown",
   "id": "1945ce53",
   "metadata": {},
   "source": [
    "* **Expression** consists of operators and operands.\n",
    "    \n",
    "    ex:  5 * 5 = 25\n",
    "    \n",
    "    here, both the `5s` are operands.\n",
    "    \n",
    "    `*`  is the operator.\n",
    "    \n",
    "    `25` is the required result.\n",
    "    \n",
    "          \n",
    "* **Statement** consists of assignment operator i.e.,`=`.\n",
    "\n",
    "   ex:  spam = 10"
   ]
  },
  {
   "cell_type": "markdown",
   "id": "a22db208",
   "metadata": {},
   "source": [
    "# 6. After running the following code, what does the variable bacon contain?\n",
    "\n",
    "### bacon = 22\n",
    "\n",
    "### bacon + 1"
   ]
  },
  {
   "cell_type": "code",
   "execution_count": 22,
   "id": "dea42474",
   "metadata": {},
   "outputs": [
    {
     "data": {
      "text/plain": [
       "23"
      ]
     },
     "execution_count": 22,
     "metadata": {},
     "output_type": "execute_result"
    }
   ],
   "source": [
    "bacon = 22\n",
    "\n",
    "bacon + 1"
   ]
  },
  {
   "cell_type": "code",
   "execution_count": 23,
   "id": "b696f6b4",
   "metadata": {},
   "outputs": [
    {
     "data": {
      "text/plain": [
       "22"
      ]
     },
     "execution_count": 23,
     "metadata": {},
     "output_type": "execute_result"
    }
   ],
   "source": [
    "bacon "
   ]
  },
  {
   "cell_type": "markdown",
   "id": "e26530fa",
   "metadata": {},
   "source": [
    "The variable bacon contains 22 and bacon + 1 results 23."
   ]
  },
  {
   "cell_type": "markdown",
   "id": "7cd74aef",
   "metadata": {},
   "source": [
    "# 7. What should the values of the following two terms be?\n",
    "\n",
    "### 'spam' + 'spamspam'\n",
    "\n",
    "### 'spam' * 3"
   ]
  },
  {
   "cell_type": "code",
   "execution_count": 24,
   "id": "d573f9a0",
   "metadata": {},
   "outputs": [
    {
     "data": {
      "text/plain": [
       "'spamspamspam'"
      ]
     },
     "execution_count": 24,
     "metadata": {},
     "output_type": "execute_result"
    }
   ],
   "source": [
    "'spam' + 'spamspam'  # Here, concatnation happens."
   ]
  },
  {
   "cell_type": "code",
   "execution_count": 1,
   "id": "6c94d251",
   "metadata": {},
   "outputs": [
    {
     "data": {
      "text/plain": [
       "'spamspamspam'"
      ]
     },
     "execution_count": 1,
     "metadata": {},
     "output_type": "execute_result"
    }
   ],
   "source": [
    "'spam' * 3          # Here, repeats for 3 times."
   ]
  },
  {
   "cell_type": "markdown",
   "id": "b784a770",
   "metadata": {},
   "source": [
    "The values of following two terms are 'spamspamspam'."
   ]
  },
  {
   "cell_type": "markdown",
   "id": "f3cca1d2",
   "metadata": {},
   "source": [
    "# 8. Why is eggs a valid variable name while 100 is invalid?"
   ]
  },
  {
   "cell_type": "markdown",
   "id": "40983cc5",
   "metadata": {},
   "source": [
    "In python, the variables should always start with either alphabets or underscore( _ ) and should not start with numbers and special characters ( $,&,...etc).\n",
    "\n",
    "* Here, eggs is a valid variable since it starts with an alphabet.\n",
    "* 100 is invalid variable since it starts with a digits."
   ]
  },
  {
   "cell_type": "markdown",
   "id": "0224e999",
   "metadata": {},
   "source": [
    "# 9. What three functions can be used to get the integer, floating-point number, or string version of a value?\n",
    "\n",
    "The functions of:\n",
    "\n",
    "* `int()` = integer  \n",
    "    \n",
    "* `float()`= floating-point numbers  \n",
    "    \n",
    "* `str()` = string "
   ]
  },
  {
   "cell_type": "code",
   "execution_count": 26,
   "id": "62ed92b3",
   "metadata": {},
   "outputs": [
    {
     "data": {
      "text/plain": [
       "12"
      ]
     },
     "execution_count": 26,
     "metadata": {},
     "output_type": "execute_result"
    }
   ],
   "source": [
    " # integer function , int()\n",
    "    \n",
    "a = 12.44\n",
    "\n",
    "int(a)"
   ]
  },
  {
   "cell_type": "code",
   "execution_count": 27,
   "id": "1f6614b6",
   "metadata": {},
   "outputs": [
    {
     "data": {
      "text/plain": [
       "12.0"
      ]
     },
     "execution_count": 27,
     "metadata": {},
     "output_type": "execute_result"
    }
   ],
   "source": [
    "# floating-point numbers , float()\n",
    "\n",
    "b = 12\n",
    "\n",
    "float(b)"
   ]
  },
  {
   "cell_type": "code",
   "execution_count": 30,
   "id": "7498b7e5",
   "metadata": {},
   "outputs": [
    {
     "data": {
      "text/plain": [
       "'123'"
      ]
     },
     "execution_count": 30,
     "metadata": {},
     "output_type": "execute_result"
    }
   ],
   "source": [
    "# string\n",
    "\n",
    "c = 123\n",
    "\n",
    "str(c)"
   ]
  },
  {
   "cell_type": "markdown",
   "id": "58290f13",
   "metadata": {},
   "source": [
    "# 10. Why does this expression cause an error? How can you fix it?\n",
    "\n",
    "### 'I have eaten' + 99 + 'burritos'\n"
   ]
  },
  {
   "cell_type": "code",
   "execution_count": 31,
   "id": "e89f35f8",
   "metadata": {},
   "outputs": [
    {
     "ename": "TypeError",
     "evalue": "can only concatenate str (not \"int\") to str",
     "output_type": "error",
     "traceback": [
      "\u001b[1;31m---------------------------------------------------------------------------\u001b[0m",
      "\u001b[1;31mTypeError\u001b[0m                                 Traceback (most recent call last)",
      "Input \u001b[1;32mIn [31]\u001b[0m, in \u001b[0;36m<cell line: 1>\u001b[1;34m()\u001b[0m\n\u001b[1;32m----> 1\u001b[0m \u001b[38;5;124;43m'\u001b[39;49m\u001b[38;5;124;43mI have eaten\u001b[39;49m\u001b[38;5;124;43m'\u001b[39;49m\u001b[43m \u001b[49m\u001b[38;5;241;43m+\u001b[39;49m\u001b[43m \u001b[49m\u001b[38;5;241;43m99\u001b[39;49m \u001b[38;5;241m+\u001b[39m \u001b[38;5;124m'\u001b[39m\u001b[38;5;124mburritos\u001b[39m\u001b[38;5;124m'\u001b[39m\n",
      "\u001b[1;31mTypeError\u001b[0m: can only concatenate str (not \"int\") to str"
     ]
    }
   ],
   "source": [
    " 'I have eaten' + 99 + 'burritos'"
   ]
  },
  {
   "cell_type": "markdown",
   "id": "3ee96cff",
   "metadata": {},
   "source": [
    "concatenation of integer with string data type is not possible. This can be fixed by converting the 99 which is an integer to string data type i.e., '99'."
   ]
  },
  {
   "cell_type": "code",
   "execution_count": 33,
   "id": "5aee8bb0",
   "metadata": {},
   "outputs": [
    {
     "data": {
      "text/plain": [
       "'I have eaten 99 burritos'"
      ]
     },
     "execution_count": 33,
     "metadata": {},
     "output_type": "execute_result"
    }
   ],
   "source": [
    "'I have eaten ' + '99' + ' burritos'"
   ]
  }
 ],
 "metadata": {
  "kernelspec": {
   "display_name": "Python 3 (ipykernel)",
   "language": "python",
   "name": "python3"
  },
  "language_info": {
   "codemirror_mode": {
    "name": "ipython",
    "version": 3
   },
   "file_extension": ".py",
   "mimetype": "text/x-python",
   "name": "python",
   "nbconvert_exporter": "python",
   "pygments_lexer": "ipython3",
   "version": "3.9.12"
  }
 },
 "nbformat": 4,
 "nbformat_minor": 5
}
